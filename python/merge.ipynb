{
 "cells": [
  {
   "cell_type": "code",
   "execution_count": 66,
   "metadata": {},
   "outputs": [],
   "source": [
    "import pandas as pd\n",
    "import numpy as np\n",
    "pd.set_option('display.max_rows', 20)\n",
    "pd.set_option('display.max_columns', 10)\n",
    "pd.set_option('display.notebook_repr_html', False)"
   ]
  },
  {
   "cell_type": "code",
   "execution_count": null,
   "metadata": {},
   "outputs": [],
   "source": [
    "! head ../data/fert.csv"
   ]
  },
  {
   "cell_type": "code",
   "execution_count": 117,
   "metadata": {
    "scrolled": false
   },
   "outputs": [
    {
     "data": {
      "text/plain": [
       "              Country Name Country Code  \\\n",
       "0                    Aruba          ABW   \n",
       "1              Afghanistan          AFG   \n",
       "2                   Angola          AGO   \n",
       "3                  Albania          ALB   \n",
       "4                  Andorra          AND   \n",
       "5               Arab World          ARB   \n",
       "6     United Arab Emirates          ARE   \n",
       "7                Argentina          ARG   \n",
       "8                  Armenia          ARM   \n",
       "9           American Samoa          ASM   \n",
       "..                     ...          ...   \n",
       "254  Virgin Islands (U.S.)          VIR   \n",
       "255                Vietnam          VNM   \n",
       "256                Vanuatu          VUT   \n",
       "257                  World          WLD   \n",
       "258                  Samoa          WSM   \n",
       "259                 Kosovo          XKX   \n",
       "260            Yemen, Rep.          YEM   \n",
       "261           South Africa          ZAF   \n",
       "262                 Zambia          ZMB   \n",
       "263               Zimbabwe          ZWE   \n",
       "\n",
       "                               Indicator Name  Indicator Code          1960  \\\n",
       "0    Fertility rate, total (births per woman)  SP.DYN.TFRT.IN  4.820000e+00   \n",
       "1    Fertility rate, total (births per woman)  SP.DYN.TFRT.IN  7.450000e+00   \n",
       "2    Fertility rate, total (births per woman)  SP.DYN.TFRT.IN  7.379000e+00   \n",
       "3    Fertility rate, total (births per woman)  SP.DYN.TFRT.IN  6.489000e+00   \n",
       "4    Fertility rate, total (births per woman)  SP.DYN.TFRT.IN           NaN   \n",
       "5    Fertility rate, total (births per woman)  SP.DYN.TFRT.IN  6.920302e+00   \n",
       "6    Fertility rate, total (births per woman)  SP.DYN.TFRT.IN  6.928000e+00   \n",
       "7    Fertility rate, total (births per woman)  SP.DYN.TFRT.IN  3.109000e+00   \n",
       "8    Fertility rate, total (births per woman)  SP.DYN.TFRT.IN  4.550000e+00   \n",
       "9    Fertility rate, total (births per woman)  SP.DYN.TFRT.IN           NaN   \n",
       "..                                        ...             ...           ...   \n",
       "254                         Population, total     SP.POP.TOTL  3.200000e+04   \n",
       "255                         Population, total     SP.POP.TOTL  3.474300e+07   \n",
       "256                         Population, total     SP.POP.TOTL  6.369900e+04   \n",
       "257                         Population, total     SP.POP.TOTL  3.034193e+09   \n",
       "258                         Population, total     SP.POP.TOTL  1.086460e+05   \n",
       "259                         Population, total     SP.POP.TOTL  9.470000e+05   \n",
       "260                         Population, total     SP.POP.TOTL  5.172135e+06   \n",
       "261                         Population, total     SP.POP.TOTL  1.739637e+07   \n",
       "262                         Population, total     SP.POP.TOTL  3.044846e+06   \n",
       "263                         Population, total     SP.POP.TOTL  3.747369e+06   \n",
       "\n",
       "        ...               2013          2014          2015          2016  \\\n",
       "0       ...       1.669000e+00  1.657000e+00  1.647000e+00           NaN   \n",
       "1       ...       5.050000e+00  4.843000e+00  4.653000e+00           NaN   \n",
       "2       ...       6.165000e+00  6.080000e+00  5.996000e+00           NaN   \n",
       "3       ...       1.765000e+00  1.784000e+00  1.793000e+00           NaN   \n",
       "4       ...                NaN           NaN           NaN           NaN   \n",
       "5       ...       3.417848e+00  3.387747e+00  3.347607e+00           NaN   \n",
       "6       ...       1.801000e+00  1.784000e+00  1.767000e+00           NaN   \n",
       "7       ...       2.335000e+00  2.322000e+00  2.308000e+00           NaN   \n",
       "8       ...       1.553000e+00  1.531000e+00  1.517000e+00           NaN   \n",
       "9       ...                NaN           NaN           NaN           NaN   \n",
       "..      ...                ...           ...           ...           ...   \n",
       "254     ...       1.047370e+05  1.041700e+05  1.035740e+05  1.029510e+05   \n",
       "255     ...       8.975950e+07  9.072890e+07  9.171330e+07  9.270110e+07   \n",
       "256     ...       2.531420e+05  2.588500e+05  2.646030e+05  2.704020e+05   \n",
       "257     ...       7.182860e+09  7.268986e+09  7.355220e+09  7.442136e+09   \n",
       "258     ...       1.907570e+05  1.922900e+05  1.937590e+05  1.951250e+05   \n",
       "259     ...       1.824100e+06  1.821800e+06  1.801800e+06  1.816200e+06   \n",
       "260     ...       2.557632e+07  2.624633e+07  2.691621e+07  2.758421e+07   \n",
       "261     ...       5.331196e+07  5.414673e+07  5.501198e+07  5.590886e+07   \n",
       "262     ...       1.515321e+07  1.562097e+07  1.610059e+07  1.659139e+07   \n",
       "263     ...       1.505451e+07  1.541168e+07  1.577745e+07  1.615036e+07   \n",
       "\n",
       "     Unnamed: 61  \n",
       "0            NaN  \n",
       "1            NaN  \n",
       "2            NaN  \n",
       "3            NaN  \n",
       "4            NaN  \n",
       "5            NaN  \n",
       "6            NaN  \n",
       "7            NaN  \n",
       "8            NaN  \n",
       "9            NaN  \n",
       "..           ...  \n",
       "254          NaN  \n",
       "255          NaN  \n",
       "256          NaN  \n",
       "257          NaN  \n",
       "258          NaN  \n",
       "259          NaN  \n",
       "260          NaN  \n",
       "261          NaN  \n",
       "262          NaN  \n",
       "263          NaN  \n",
       "\n",
       "[792 rows x 62 columns]"
      ]
     },
     "execution_count": 117,
     "metadata": {},
     "output_type": "execute_result"
    }
   ],
   "source": [
    "fertility = pd.read_csv(\"../data/fert.csv\")\n",
    "life_expectancy = pd.read_csv(\"../data/life_expectancy.csv\")\n",
    "population = pd.read_csv(\"../data/population.csv\")\n",
    "all_data = pd.concat([fertility, life_expectancy, population])\n",
    "all_data"
   ]
  },
  {
   "cell_type": "code",
   "execution_count": 118,
   "metadata": {},
   "outputs": [
    {
     "data": {
      "text/plain": [
       "Empty DataFrame\n",
       "Columns: [Country Name, Country Code, Indicator Name, Indicator Code, 1960, 1961, 1962, 1963, 1964, 1965, 1966, 1967, 1968, 1969, 1970, 1971, 1972, 1973, 1974, 1975, 1976, 1977, 1978, 1979, 1980, 1981, 1982, 1983, 1984, 1985, 1986, 1987, 1988, 1989, 1990, 1991, 1992, 1993, 1994, 1995, 1996, 1997, 1998, 1999, 2000, 2001, 2002, 2003, 2004, 2005, 2006, 2007, 2008, 2009, 2010, 2011, 2012, 2013, 2014, 2015, 2016, Unnamed: 61]\n",
       "Index: []\n",
       "\n",
       "[0 rows x 62 columns]"
      ]
     },
     "execution_count": 118,
     "metadata": {},
     "output_type": "execute_result"
    }
   ],
   "source": [
    "all_data.dropna()"
   ]
  },
  {
   "cell_type": "code",
   "execution_count": 116,
   "metadata": {},
   "outputs": [
    {
     "data": {
      "text/plain": [
       "                                   Country Name Country Code  \\\n",
       "228  East Asia & Pacific (IDA & IBRD countries)          TEA   \n",
       "228  East Asia & Pacific (IDA & IBRD countries)          TEA   \n",
       "228  East Asia & Pacific (IDA & IBRD countries)          TEA   \n",
       "\n",
       "                               Indicator Name  Indicator Code          1960  \\\n",
       "228  Fertility rate, total (births per woman)  SP.DYN.TFRT.IN  5.843793e+00   \n",
       "228   Life expectancy at birth, total (years)  SP.DYN.LE00.IN  4.539513e+01   \n",
       "228                         Population, total     SP.POP.TOTL  8.845942e+08   \n",
       "\n",
       "        ...               2013          2014          2015          2016  \\\n",
       "228     ...       1.810800e+00  1.813057e+00  1.814725e+00           NaN   \n",
       "228     ...       7.385374e+01  7.403559e+01  7.422231e+01           NaN   \n",
       "228     ...       1.982414e+09  1.996870e+09  2.011274e+09  2.026028e+09   \n",
       "\n",
       "     Unnamed: 61  \n",
       "228          NaN  \n",
       "228          NaN  \n",
       "228          NaN  \n",
       "\n",
       "[3 rows x 62 columns]"
      ]
     },
     "execution_count": 116,
     "metadata": {},
     "output_type": "execute_result"
    }
   ],
   "source": [
    "all_data[all_data['Country Name']=='East Asia & Pacific (IDA & IBRD countries)']"
   ]
  },
  {
   "cell_type": "code",
   "execution_count": null,
   "metadata": {
    "collapsed": true
   },
   "outputs": [],
   "source": []
  },
  {
   "cell_type": "code",
   "execution_count": null,
   "metadata": {
    "collapsed": true
   },
   "outputs": [],
   "source": []
  },
  {
   "cell_type": "code",
   "execution_count": 87,
   "metadata": {},
   "outputs": [],
   "source": [
    "columns = ['Country Code', 'Country Name', 'Indicator Code'] + list((str(x) for x in np.arange(1960, 2016)))"
   ]
  },
  {
   "cell_type": "code",
   "execution_count": 120,
   "metadata": {},
   "outputs": [
    {
     "data": {
      "text/plain": [
       "    Country Code           Country Name  Indicator Code          1960  \\\n",
       "0            ABW                  Aruba  SP.DYN.TFRT.IN  4.820000e+00   \n",
       "1            AFG            Afghanistan  SP.DYN.TFRT.IN  7.450000e+00   \n",
       "2            AGO                 Angola  SP.DYN.TFRT.IN  7.379000e+00   \n",
       "3            ALB                Albania  SP.DYN.TFRT.IN  6.489000e+00   \n",
       "4            AND                Andorra  SP.DYN.TFRT.IN           NaN   \n",
       "5            ARB             Arab World  SP.DYN.TFRT.IN  6.920302e+00   \n",
       "6            ARE   United Arab Emirates  SP.DYN.TFRT.IN  6.928000e+00   \n",
       "7            ARG              Argentina  SP.DYN.TFRT.IN  3.109000e+00   \n",
       "8            ARM                Armenia  SP.DYN.TFRT.IN  4.550000e+00   \n",
       "9            ASM         American Samoa  SP.DYN.TFRT.IN           NaN   \n",
       "..           ...                    ...             ...           ...   \n",
       "254          VIR  Virgin Islands (U.S.)     SP.POP.TOTL  3.200000e+04   \n",
       "255          VNM                Vietnam     SP.POP.TOTL  3.474300e+07   \n",
       "256          VUT                Vanuatu     SP.POP.TOTL  6.369900e+04   \n",
       "257          WLD                  World     SP.POP.TOTL  3.034193e+09   \n",
       "258          WSM                  Samoa     SP.POP.TOTL  1.086460e+05   \n",
       "259          XKX                 Kosovo     SP.POP.TOTL  9.470000e+05   \n",
       "260          YEM            Yemen, Rep.     SP.POP.TOTL  5.172135e+06   \n",
       "261          ZAF           South Africa     SP.POP.TOTL  1.739637e+07   \n",
       "262          ZMB                 Zambia     SP.POP.TOTL  3.044846e+06   \n",
       "263          ZWE               Zimbabwe     SP.POP.TOTL  3.747369e+06   \n",
       "\n",
       "             1961      ...               2011          2012          2013  \\\n",
       "0    4.655000e+00      ...       1.692000e+00  1.680000e+00  1.669000e+00   \n",
       "1    7.450000e+00      ...       5.506000e+00  5.272000e+00  5.050000e+00   \n",
       "2    7.388000e+00      ...       6.335000e+00  6.251000e+00  6.165000e+00   \n",
       "3    6.401000e+00      ...       1.699000e+00  1.735000e+00  1.765000e+00   \n",
       "4             NaN      ...                NaN           NaN           NaN   \n",
       "5    6.941665e+00      ...       3.446814e+00  3.437146e+00  3.417848e+00   \n",
       "6    6.910000e+00      ...       1.841000e+00  1.820000e+00  1.801000e+00   \n",
       "7    3.100000e+00      ...       2.358000e+00  2.347000e+00  2.335000e+00   \n",
       "8    4.512000e+00      ...       1.613000e+00  1.581000e+00  1.553000e+00   \n",
       "9             NaN      ...                NaN           NaN           NaN   \n",
       "..            ...      ...                ...           ...           ...   \n",
       "254  3.410000e+04      ...       1.057840e+05  1.052750e+05  1.047370e+05   \n",
       "255  3.542800e+07      ...       8.786030e+07  8.880920e+07  8.975950e+07   \n",
       "256  6.571300e+04      ...       2.418710e+05  2.474850e+05  2.531420e+05   \n",
       "257  3.075115e+09      ...       7.012844e+09  7.097401e+09  7.182860e+09   \n",
       "258  1.121190e+05      ...       1.876650e+05  1.891940e+05  1.907570e+05   \n",
       "259  9.660000e+05      ...       1.791000e+06  1.805200e+06  1.824100e+06   \n",
       "260  5.260501e+06      ...       2.425221e+07  2.490997e+07  2.557632e+07   \n",
       "261  1.785004e+07      ...       5.172935e+07  5.250652e+07  5.331196e+07   \n",
       "262  3.140264e+06      ...       1.426476e+07  1.469994e+07  1.515321e+07   \n",
       "263  3.870756e+06      ...       1.438665e+07  1.471083e+07  1.505451e+07   \n",
       "\n",
       "             2014          2015  \n",
       "0    1.657000e+00  1.647000e+00  \n",
       "1    4.843000e+00  4.653000e+00  \n",
       "2    6.080000e+00  5.996000e+00  \n",
       "3    1.784000e+00  1.793000e+00  \n",
       "4             NaN           NaN  \n",
       "5    3.387747e+00  3.347607e+00  \n",
       "6    1.784000e+00  1.767000e+00  \n",
       "7    2.322000e+00  2.308000e+00  \n",
       "8    1.531000e+00  1.517000e+00  \n",
       "9             NaN           NaN  \n",
       "..            ...           ...  \n",
       "254  1.041700e+05  1.035740e+05  \n",
       "255  9.072890e+07  9.171330e+07  \n",
       "256  2.588500e+05  2.646030e+05  \n",
       "257  7.268986e+09  7.355220e+09  \n",
       "258  1.922900e+05  1.937590e+05  \n",
       "259  1.821800e+06  1.801800e+06  \n",
       "260  2.624633e+07  2.691621e+07  \n",
       "261  5.414673e+07  5.501198e+07  \n",
       "262  1.562097e+07  1.610059e+07  \n",
       "263  1.541168e+07  1.577745e+07  \n",
       "\n",
       "[792 rows x 59 columns]"
      ]
     },
     "execution_count": 120,
     "metadata": {},
     "output_type": "execute_result"
    }
   ],
   "source": [
    "data = all_data[columns]\n",
    "data"
   ]
  },
  {
   "cell_type": "code",
   "execution_count": 121,
   "metadata": {},
   "outputs": [
    {
     "data": {
      "text/plain": [
       "    Country Code           Country Name  Indicator Code          1960  \\\n",
       "0            ABW                  Aruba  SP.DYN.TFRT.IN  4.820000e+00   \n",
       "1            AFG            Afghanistan  SP.DYN.TFRT.IN  7.450000e+00   \n",
       "2            AGO                 Angola  SP.DYN.TFRT.IN  7.379000e+00   \n",
       "3            ALB                Albania  SP.DYN.TFRT.IN  6.489000e+00   \n",
       "5            ARB             Arab World  SP.DYN.TFRT.IN  6.920302e+00   \n",
       "6            ARE   United Arab Emirates  SP.DYN.TFRT.IN  6.928000e+00   \n",
       "7            ARG              Argentina  SP.DYN.TFRT.IN  3.109000e+00   \n",
       "8            ARM                Armenia  SP.DYN.TFRT.IN  4.550000e+00   \n",
       "10           ATG    Antigua and Barbuda  SP.DYN.TFRT.IN  4.425000e+00   \n",
       "11           AUS              Australia  SP.DYN.TFRT.IN  3.453000e+00   \n",
       "..           ...                    ...             ...           ...   \n",
       "254          VIR  Virgin Islands (U.S.)     SP.POP.TOTL  3.200000e+04   \n",
       "255          VNM                Vietnam     SP.POP.TOTL  3.474300e+07   \n",
       "256          VUT                Vanuatu     SP.POP.TOTL  6.369900e+04   \n",
       "257          WLD                  World     SP.POP.TOTL  3.034193e+09   \n",
       "258          WSM                  Samoa     SP.POP.TOTL  1.086460e+05   \n",
       "259          XKX                 Kosovo     SP.POP.TOTL  9.470000e+05   \n",
       "260          YEM            Yemen, Rep.     SP.POP.TOTL  5.172135e+06   \n",
       "261          ZAF           South Africa     SP.POP.TOTL  1.739637e+07   \n",
       "262          ZMB                 Zambia     SP.POP.TOTL  3.044846e+06   \n",
       "263          ZWE               Zimbabwe     SP.POP.TOTL  3.747369e+06   \n",
       "\n",
       "             1961      ...               2011          2012          2013  \\\n",
       "0    4.655000e+00      ...       1.692000e+00  1.680000e+00  1.669000e+00   \n",
       "1    7.450000e+00      ...       5.506000e+00  5.272000e+00  5.050000e+00   \n",
       "2    7.388000e+00      ...       6.335000e+00  6.251000e+00  6.165000e+00   \n",
       "3    6.401000e+00      ...       1.699000e+00  1.735000e+00  1.765000e+00   \n",
       "5    6.941665e+00      ...       3.446814e+00  3.437146e+00  3.417848e+00   \n",
       "6    6.910000e+00      ...       1.841000e+00  1.820000e+00  1.801000e+00   \n",
       "7    3.100000e+00      ...       2.358000e+00  2.347000e+00  2.335000e+00   \n",
       "8    4.512000e+00      ...       1.613000e+00  1.581000e+00  1.553000e+00   \n",
       "10   4.386000e+00      ...       2.115000e+00  2.102000e+00  2.088000e+00   \n",
       "11   3.540000e+00      ...       1.927000e+00  1.921000e+00  1.859000e+00   \n",
       "..            ...      ...                ...           ...           ...   \n",
       "254  3.410000e+04      ...       1.057840e+05  1.052750e+05  1.047370e+05   \n",
       "255  3.542800e+07      ...       8.786030e+07  8.880920e+07  8.975950e+07   \n",
       "256  6.571300e+04      ...       2.418710e+05  2.474850e+05  2.531420e+05   \n",
       "257  3.075115e+09      ...       7.012844e+09  7.097401e+09  7.182860e+09   \n",
       "258  1.121190e+05      ...       1.876650e+05  1.891940e+05  1.907570e+05   \n",
       "259  9.660000e+05      ...       1.791000e+06  1.805200e+06  1.824100e+06   \n",
       "260  5.260501e+06      ...       2.425221e+07  2.490997e+07  2.557632e+07   \n",
       "261  1.785004e+07      ...       5.172935e+07  5.250652e+07  5.331196e+07   \n",
       "262  3.140264e+06      ...       1.426476e+07  1.469994e+07  1.515321e+07   \n",
       "263  3.870756e+06      ...       1.438665e+07  1.471083e+07  1.505451e+07   \n",
       "\n",
       "             2014          2015  \n",
       "0    1.657000e+00  1.647000e+00  \n",
       "1    4.843000e+00  4.653000e+00  \n",
       "2    6.080000e+00  5.996000e+00  \n",
       "3    1.784000e+00  1.793000e+00  \n",
       "5    3.387747e+00  3.347607e+00  \n",
       "6    1.784000e+00  1.767000e+00  \n",
       "7    2.322000e+00  2.308000e+00  \n",
       "8    1.531000e+00  1.517000e+00  \n",
       "10   2.075000e+00  2.063000e+00  \n",
       "11   1.833000e+00  1.833000e+00  \n",
       "..            ...           ...  \n",
       "254  1.041700e+05  1.035740e+05  \n",
       "255  9.072890e+07  9.171330e+07  \n",
       "256  2.588500e+05  2.646030e+05  \n",
       "257  7.268986e+09  7.355220e+09  \n",
       "258  1.922900e+05  1.937590e+05  \n",
       "259  1.821800e+06  1.801800e+06  \n",
       "260  2.624633e+07  2.691621e+07  \n",
       "261  5.414673e+07  5.501198e+07  \n",
       "262  1.562097e+07  1.610059e+07  \n",
       "263  1.541168e+07  1.577745e+07  \n",
       "\n",
       "[728 rows x 59 columns]"
      ]
     },
     "execution_count": 121,
     "metadata": {},
     "output_type": "execute_result"
    }
   ],
   "source": [
    "data.dropna()"
   ]
  },
  {
   "cell_type": "code",
   "execution_count": 122,
   "metadata": {},
   "outputs": [
    {
     "data": {
      "text/plain": [
       "Empty DataFrame\n",
       "Columns: [Country Name, Country Code, Indicator Name, Indicator Code, 1960, 1961, 1962, 1963, 1964, 1965, 1966, 1967, 1968, 1969, 1970, 1971, 1972, 1973, 1974, 1975, 1976, 1977, 1978, 1979, 1980, 1981, 1982, 1983, 1984, 1985, 1986, 1987, 1988, 1989, 1990, 1991, 1992, 1993, 1994, 1995, 1996, 1997, 1998, 1999, 2000, 2001, 2002, 2003, 2004, 2005, 2006, 2007, 2008, 2009, 2010, 2011, 2012, 2013, 2014, 2015, 2016, Unnamed: 61]\n",
       "Index: []\n",
       "\n",
       "[0 rows x 62 columns]"
      ]
     },
     "execution_count": 122,
     "metadata": {},
     "output_type": "execute_result"
    }
   ],
   "source": [
    "all_data.dropna()"
   ]
  },
  {
   "cell_type": "code",
   "execution_count": 125,
   "metadata": {},
   "outputs": [
    {
     "data": {
      "text/plain": [
       "264"
      ]
     },
     "execution_count": 125,
     "metadata": {},
     "output_type": "execute_result"
    }
   ],
   "source": [
    "len(all_data['Country Code'].unique())"
   ]
  },
  {
   "cell_type": "code",
   "execution_count": null,
   "metadata": {
    "collapsed": true
   },
   "outputs": [],
   "source": []
  },
  {
   "cell_type": "code",
   "execution_count": null,
   "metadata": {
    "collapsed": true
   },
   "outputs": [],
   "source": []
  },
  {
   "cell_type": "code",
   "execution_count": null,
   "metadata": {
    "collapsed": true
   },
   "outputs": [],
   "source": []
  },
  {
   "cell_type": "code",
   "execution_count": 95,
   "metadata": {},
   "outputs": [
    {
     "data": {
      "text/plain": [
       "                                                           1960          1961  \\\n",
       "Country Code Country Name          Indicator Code                               \n",
       "ABW          Aruba                 SP.DYN.TFRT.IN  4.820000e+00  4.655000e+00   \n",
       "AFG          Afghanistan           SP.DYN.TFRT.IN  7.450000e+00  7.450000e+00   \n",
       "AGO          Angola                SP.DYN.TFRT.IN  7.379000e+00  7.388000e+00   \n",
       "ALB          Albania               SP.DYN.TFRT.IN  6.489000e+00  6.401000e+00   \n",
       "AND          Andorra               SP.DYN.TFRT.IN           NaN           NaN   \n",
       "ARB          Arab World            SP.DYN.TFRT.IN  6.920302e+00  6.941665e+00   \n",
       "ARE          United Arab Emirates  SP.DYN.TFRT.IN  6.928000e+00  6.910000e+00   \n",
       "ARG          Argentina             SP.DYN.TFRT.IN  3.109000e+00  3.100000e+00   \n",
       "ARM          Armenia               SP.DYN.TFRT.IN  4.550000e+00  4.512000e+00   \n",
       "ASM          American Samoa        SP.DYN.TFRT.IN           NaN           NaN   \n",
       "...                                                         ...           ...   \n",
       "VIR          Virgin Islands (U.S.) SP.POP.TOTL     3.200000e+04  3.410000e+04   \n",
       "VNM          Vietnam               SP.POP.TOTL     3.474300e+07  3.542800e+07   \n",
       "VUT          Vanuatu               SP.POP.TOTL     6.369900e+04  6.571300e+04   \n",
       "WLD          World                 SP.POP.TOTL     3.034193e+09  3.075115e+09   \n",
       "WSM          Samoa                 SP.POP.TOTL     1.086460e+05  1.121190e+05   \n",
       "XKX          Kosovo                SP.POP.TOTL     9.470000e+05  9.660000e+05   \n",
       "YEM          Yemen, Rep.           SP.POP.TOTL     5.172135e+06  5.260501e+06   \n",
       "ZAF          South Africa          SP.POP.TOTL     1.739637e+07  1.785004e+07   \n",
       "ZMB          Zambia                SP.POP.TOTL     3.044846e+06  3.140264e+06   \n",
       "ZWE          Zimbabwe              SP.POP.TOTL     3.747369e+06  3.870756e+06   \n",
       "\n",
       "                                                           1962          1963  \\\n",
       "Country Code Country Name          Indicator Code                               \n",
       "ABW          Aruba                 SP.DYN.TFRT.IN  4.471000e+00  4.271000e+00   \n",
       "AFG          Afghanistan           SP.DYN.TFRT.IN  7.450000e+00  7.450000e+00   \n",
       "AGO          Angola                SP.DYN.TFRT.IN  7.396000e+00  7.402000e+00   \n",
       "ALB          Albania               SP.DYN.TFRT.IN  6.282000e+00  6.133000e+00   \n",
       "AND          Andorra               SP.DYN.TFRT.IN           NaN           NaN   \n",
       "ARB          Arab World            SP.DYN.TFRT.IN  6.959471e+00  6.971402e+00   \n",
       "ARE          United Arab Emirates  SP.DYN.TFRT.IN  6.893000e+00  6.877000e+00   \n",
       "ARG          Argentina             SP.DYN.TFRT.IN  3.089000e+00  3.078000e+00   \n",
       "ARM          Armenia               SP.DYN.TFRT.IN  4.435000e+00  4.317000e+00   \n",
       "ASM          American Samoa        SP.DYN.TFRT.IN           NaN           NaN   \n",
       "...                                                         ...           ...   \n",
       "VIR          Virgin Islands (U.S.) SP.POP.TOTL     3.630000e+04  3.870000e+04   \n",
       "VNM          Vietnam               SP.POP.TOTL     3.612300e+07  3.683600e+07   \n",
       "VUT          Vanuatu               SP.POP.TOTL     6.780800e+04  6.996400e+04   \n",
       "WLD          World                 SP.POP.TOTL     3.127961e+09  3.192794e+09   \n",
       "WSM          Samoa                 SP.POP.TOTL     1.157880e+05  1.195610e+05   \n",
       "XKX          Kosovo                SP.POP.TOTL     9.940000e+05  1.022000e+06   \n",
       "YEM          Yemen, Rep.           SP.POP.TOTL     5.351799e+06  5.446063e+06   \n",
       "ZAF          South Africa          SP.POP.TOTL     1.832234e+07  1.880994e+07   \n",
       "ZMB          Zambia                SP.POP.TOTL     3.240587e+06  3.345145e+06   \n",
       "ZWE          Zimbabwe              SP.POP.TOTL     3.999419e+06  4.132756e+06   \n",
       "\n",
       "                                                           1964      ...       \\\n",
       "Country Code Country Name          Indicator Code                    ...        \n",
       "ABW          Aruba                 SP.DYN.TFRT.IN  4.059000e+00      ...        \n",
       "AFG          Afghanistan           SP.DYN.TFRT.IN  7.450000e+00      ...        \n",
       "AGO          Angola                SP.DYN.TFRT.IN  7.406000e+00      ...        \n",
       "ALB          Albania               SP.DYN.TFRT.IN  5.960000e+00      ...        \n",
       "AND          Andorra               SP.DYN.TFRT.IN           NaN      ...        \n",
       "ARB          Arab World            SP.DYN.TFRT.IN  6.975507e+00      ...        \n",
       "ARE          United Arab Emirates  SP.DYN.TFRT.IN  6.861000e+00      ...        \n",
       "ARG          Argentina             SP.DYN.TFRT.IN  3.068000e+00      ...        \n",
       "ARM          Armenia               SP.DYN.TFRT.IN  4.161000e+00      ...        \n",
       "ASM          American Samoa        SP.DYN.TFRT.IN           NaN      ...        \n",
       "...                                                         ...      ...        \n",
       "VIR          Virgin Islands (U.S.) SP.POP.TOTL     4.130000e+04      ...        \n",
       "VNM          Vietnam               SP.POP.TOTL     3.757400e+07      ...        \n",
       "VUT          Vanuatu               SP.POP.TOTL     7.213100e+04      ...        \n",
       "WLD          World                 SP.POP.TOTL     3.258201e+09      ...        \n",
       "WSM          Samoa                 SP.POP.TOTL     1.233540e+05      ...        \n",
       "XKX          Kosovo                SP.POP.TOTL     1.050000e+06      ...        \n",
       "YEM          Yemen, Rep.           SP.POP.TOTL     5.543339e+06      ...        \n",
       "ZAF          South Africa          SP.POP.TOTL     1.930817e+07      ...        \n",
       "ZMB          Zambia                SP.POP.TOTL     3.452942e+06      ...        \n",
       "ZWE          Zimbabwe              SP.POP.TOTL     4.269863e+06      ...        \n",
       "\n",
       "                                                           2011          2012  \\\n",
       "Country Code Country Name          Indicator Code                               \n",
       "ABW          Aruba                 SP.DYN.TFRT.IN  1.692000e+00  1.680000e+00   \n",
       "AFG          Afghanistan           SP.DYN.TFRT.IN  5.506000e+00  5.272000e+00   \n",
       "AGO          Angola                SP.DYN.TFRT.IN  6.335000e+00  6.251000e+00   \n",
       "ALB          Albania               SP.DYN.TFRT.IN  1.699000e+00  1.735000e+00   \n",
       "AND          Andorra               SP.DYN.TFRT.IN           NaN           NaN   \n",
       "ARB          Arab World            SP.DYN.TFRT.IN  3.446814e+00  3.437146e+00   \n",
       "ARE          United Arab Emirates  SP.DYN.TFRT.IN  1.841000e+00  1.820000e+00   \n",
       "ARG          Argentina             SP.DYN.TFRT.IN  2.358000e+00  2.347000e+00   \n",
       "ARM          Armenia               SP.DYN.TFRT.IN  1.613000e+00  1.581000e+00   \n",
       "ASM          American Samoa        SP.DYN.TFRT.IN           NaN           NaN   \n",
       "...                                                         ...           ...   \n",
       "VIR          Virgin Islands (U.S.) SP.POP.TOTL     1.057840e+05  1.052750e+05   \n",
       "VNM          Vietnam               SP.POP.TOTL     8.786030e+07  8.880920e+07   \n",
       "VUT          Vanuatu               SP.POP.TOTL     2.418710e+05  2.474850e+05   \n",
       "WLD          World                 SP.POP.TOTL     7.012844e+09  7.097401e+09   \n",
       "WSM          Samoa                 SP.POP.TOTL     1.876650e+05  1.891940e+05   \n",
       "XKX          Kosovo                SP.POP.TOTL     1.791000e+06  1.805200e+06   \n",
       "YEM          Yemen, Rep.           SP.POP.TOTL     2.425221e+07  2.490997e+07   \n",
       "ZAF          South Africa          SP.POP.TOTL     5.172935e+07  5.250652e+07   \n",
       "ZMB          Zambia                SP.POP.TOTL     1.426476e+07  1.469994e+07   \n",
       "ZWE          Zimbabwe              SP.POP.TOTL     1.438665e+07  1.471083e+07   \n",
       "\n",
       "                                                           2013          2014  \\\n",
       "Country Code Country Name          Indicator Code                               \n",
       "ABW          Aruba                 SP.DYN.TFRT.IN  1.669000e+00  1.657000e+00   \n",
       "AFG          Afghanistan           SP.DYN.TFRT.IN  5.050000e+00  4.843000e+00   \n",
       "AGO          Angola                SP.DYN.TFRT.IN  6.165000e+00  6.080000e+00   \n",
       "ALB          Albania               SP.DYN.TFRT.IN  1.765000e+00  1.784000e+00   \n",
       "AND          Andorra               SP.DYN.TFRT.IN           NaN           NaN   \n",
       "ARB          Arab World            SP.DYN.TFRT.IN  3.417848e+00  3.387747e+00   \n",
       "ARE          United Arab Emirates  SP.DYN.TFRT.IN  1.801000e+00  1.784000e+00   \n",
       "ARG          Argentina             SP.DYN.TFRT.IN  2.335000e+00  2.322000e+00   \n",
       "ARM          Armenia               SP.DYN.TFRT.IN  1.553000e+00  1.531000e+00   \n",
       "ASM          American Samoa        SP.DYN.TFRT.IN           NaN           NaN   \n",
       "...                                                         ...           ...   \n",
       "VIR          Virgin Islands (U.S.) SP.POP.TOTL     1.047370e+05  1.041700e+05   \n",
       "VNM          Vietnam               SP.POP.TOTL     8.975950e+07  9.072890e+07   \n",
       "VUT          Vanuatu               SP.POP.TOTL     2.531420e+05  2.588500e+05   \n",
       "WLD          World                 SP.POP.TOTL     7.182860e+09  7.268986e+09   \n",
       "WSM          Samoa                 SP.POP.TOTL     1.907570e+05  1.922900e+05   \n",
       "XKX          Kosovo                SP.POP.TOTL     1.824100e+06  1.821800e+06   \n",
       "YEM          Yemen, Rep.           SP.POP.TOTL     2.557632e+07  2.624633e+07   \n",
       "ZAF          South Africa          SP.POP.TOTL     5.331196e+07  5.414673e+07   \n",
       "ZMB          Zambia                SP.POP.TOTL     1.515321e+07  1.562097e+07   \n",
       "ZWE          Zimbabwe              SP.POP.TOTL     1.505451e+07  1.541168e+07   \n",
       "\n",
       "                                                           2015  \n",
       "Country Code Country Name          Indicator Code                \n",
       "ABW          Aruba                 SP.DYN.TFRT.IN  1.647000e+00  \n",
       "AFG          Afghanistan           SP.DYN.TFRT.IN  4.653000e+00  \n",
       "AGO          Angola                SP.DYN.TFRT.IN  5.996000e+00  \n",
       "ALB          Albania               SP.DYN.TFRT.IN  1.793000e+00  \n",
       "AND          Andorra               SP.DYN.TFRT.IN           NaN  \n",
       "ARB          Arab World            SP.DYN.TFRT.IN  3.347607e+00  \n",
       "ARE          United Arab Emirates  SP.DYN.TFRT.IN  1.767000e+00  \n",
       "ARG          Argentina             SP.DYN.TFRT.IN  2.308000e+00  \n",
       "ARM          Armenia               SP.DYN.TFRT.IN  1.517000e+00  \n",
       "ASM          American Samoa        SP.DYN.TFRT.IN           NaN  \n",
       "...                                                         ...  \n",
       "VIR          Virgin Islands (U.S.) SP.POP.TOTL     1.035740e+05  \n",
       "VNM          Vietnam               SP.POP.TOTL     9.171330e+07  \n",
       "VUT          Vanuatu               SP.POP.TOTL     2.646030e+05  \n",
       "WLD          World                 SP.POP.TOTL     7.355220e+09  \n",
       "WSM          Samoa                 SP.POP.TOTL     1.937590e+05  \n",
       "XKX          Kosovo                SP.POP.TOTL     1.801800e+06  \n",
       "YEM          Yemen, Rep.           SP.POP.TOTL     2.691621e+07  \n",
       "ZAF          South Africa          SP.POP.TOTL     5.501198e+07  \n",
       "ZMB          Zambia                SP.POP.TOTL     1.610059e+07  \n",
       "ZWE          Zimbabwe              SP.POP.TOTL     1.577745e+07  \n",
       "\n",
       "[792 rows x 56 columns]"
      ]
     },
     "execution_count": 95,
     "metadata": {},
     "output_type": "execute_result"
    }
   ],
   "source": [
    "data = data.set_index(['Country Code', 'Country Name', 'Indicator Code'])\n",
    "data"
   ]
  },
  {
   "cell_type": "code",
   "execution_count": 96,
   "metadata": {},
   "outputs": [
    {
     "data": {
      "text/plain": [
       "Country Code  Country Name  Indicator Code      \n",
       "ABW           Aruba         SP.DYN.TFRT.IN  1960    4.820000e+00\n",
       "                                            1961    4.655000e+00\n",
       "                                            1962    4.471000e+00\n",
       "                                            1963    4.271000e+00\n",
       "                                            1964    4.059000e+00\n",
       "                                            1965    3.842000e+00\n",
       "                                            1966    3.625000e+00\n",
       "                                            1967    3.417000e+00\n",
       "                                            1968    3.226000e+00\n",
       "                                            1969    3.054000e+00\n",
       "                                                        ...     \n",
       "ZWE           Zimbabwe      SP.POP.TOTL     2006    1.312427e+07\n",
       "                                            2007    1.332991e+07\n",
       "                                            2008    1.355847e+07\n",
       "                                            2009    1.381060e+07\n",
       "                                            2010    1.408632e+07\n",
       "                                            2011    1.438665e+07\n",
       "                                            2012    1.471083e+07\n",
       "                                            2013    1.505451e+07\n",
       "                                            2014    1.541168e+07\n",
       "                                            2015    1.577745e+07\n",
       "Length: 41644, dtype: float64"
      ]
     },
     "execution_count": 96,
     "metadata": {},
     "output_type": "execute_result"
    }
   ],
   "source": [
    "data = data.stack()\n",
    "data"
   ]
  },
  {
   "cell_type": "code",
   "execution_count": 102,
   "metadata": {},
   "outputs": [
    {
     "data": {
      "text/plain": [
       "Country Code  Country Name  Indicator Code  Year\n",
       "ABW           Aruba         SP.DYN.TFRT.IN  1960    4.820000e+00\n",
       "                                            1961    4.655000e+00\n",
       "                                            1962    4.471000e+00\n",
       "                                            1963    4.271000e+00\n",
       "                                            1964    4.059000e+00\n",
       "                                            1965    3.842000e+00\n",
       "                                            1966    3.625000e+00\n",
       "                                            1967    3.417000e+00\n",
       "                                            1968    3.226000e+00\n",
       "                                            1969    3.054000e+00\n",
       "                                                        ...     \n",
       "ZWE           Zimbabwe      SP.POP.TOTL     2006    1.312427e+07\n",
       "                                            2007    1.332991e+07\n",
       "                                            2008    1.355847e+07\n",
       "                                            2009    1.381060e+07\n",
       "                                            2010    1.408632e+07\n",
       "                                            2011    1.438665e+07\n",
       "                                            2012    1.471083e+07\n",
       "                                            2013    1.505451e+07\n",
       "                                            2014    1.541168e+07\n",
       "                                            2015    1.577745e+07\n",
       "Length: 41644, dtype: float64"
      ]
     },
     "execution_count": 102,
     "metadata": {},
     "output_type": "execute_result"
    }
   ],
   "source": [
    "data.index = data.index.rename('Year', level=3)\n",
    "data"
   ]
  },
  {
   "cell_type": "code",
   "execution_count": 104,
   "metadata": {},
   "outputs": [
    {
     "data": {
      "text/plain": [
       "Indicator Code                  SP.DYN.LE00.IN  SP.DYN.TFRT.IN  SP.POP.TOTL\n",
       "Country Code Country Name Year                                             \n",
       "ABW          Aruba        1960       65.569366           4.820      54211.0\n",
       "                          1961       65.988024           4.655      55438.0\n",
       "                          1962       66.365537           4.471      56225.0\n",
       "                          1963       66.713976           4.271      56695.0\n",
       "                          1964       67.044293           4.059      57032.0\n",
       "                          1965       67.369756           3.842      57360.0\n",
       "                          1966       67.699000           3.625      57715.0\n",
       "                          1967       68.034683           3.417      58055.0\n",
       "                          1968       68.377146           3.226      58386.0\n",
       "                          1969       68.728415           3.054      58726.0\n",
       "...                                        ...             ...          ...\n",
       "ZWE          Zimbabwe     2006       42.810707           4.012   13124267.0\n",
       "                          2007       44.177756           4.022   13329909.0\n",
       "                          2008       45.804488           4.034   13558469.0\n",
       "                          2009       47.624659           4.044   13810599.0\n",
       "                          2010       49.574659           4.048   14086317.0\n",
       "                          2011       51.600366           4.039   14386649.0\n",
       "                          2012       53.643073           4.016   14710826.0\n",
       "                          2013       55.633000           3.977   15054506.0\n",
       "                          2014       57.498317           3.923   15411675.0\n",
       "                          2015       59.161073           3.856   15777451.0\n",
       "\n",
       "[14634 rows x 3 columns]"
      ]
     },
     "execution_count": 104,
     "metadata": {},
     "output_type": "execute_result"
    }
   ],
   "source": [
    "data2 = data.unstack(level=2)\n",
    "data2"
   ]
  },
  {
   "cell_type": "code",
   "execution_count": 109,
   "metadata": {},
   "outputs": [
    {
     "data": {
      "text/plain": [
       "array(['Afghanistan', 'Albania', 'Algeria', 'American Samoa', 'Andorra',\n",
       "       'Angola', 'Antigua and Barbuda', 'Arab World', 'Argentina',\n",
       "       'Armenia', 'Aruba', 'Australia', 'Austria', 'Azerbaijan',\n",
       "       'Bahamas, The', 'Bahrain', 'Bangladesh', 'Barbados', 'Belarus',\n",
       "       'Belgium', 'Belize', 'Benin', 'Bermuda', 'Bhutan', 'Bolivia',\n",
       "       'Bosnia and Herzegovina', 'Botswana', 'Brazil',\n",
       "       'British Virgin Islands', 'Brunei Darussalam', 'Bulgaria',\n",
       "       'Burkina Faso', 'Burundi', 'Cabo Verde', 'Cambodia', 'Cameroon',\n",
       "       'Canada', 'Caribbean small states', 'Cayman Islands',\n",
       "       'Central African Republic', 'Central Europe and the Baltics',\n",
       "       'Chad', 'Channel Islands', 'Chile', 'China', 'Colombia', 'Comoros',\n",
       "       'Congo, Dem. Rep.', 'Congo, Rep.', 'Costa Rica', \"Cote d'Ivoire\",\n",
       "       'Croatia', 'Cuba', 'Curacao', 'Cyprus', 'Czech Republic', 'Denmark',\n",
       "       'Djibouti', 'Dominica', 'Dominican Republic',\n",
       "       'Early-demographic dividend', 'East Asia & Pacific',\n",
       "       'East Asia & Pacific (IDA & IBRD countries)',\n",
       "       'East Asia & Pacific (excluding high income)', 'Ecuador',\n",
       "       'Egypt, Arab Rep.', 'El Salvador', 'Equatorial Guinea', 'Eritrea',\n",
       "       'Estonia', 'Ethiopia', 'Euro area', 'Europe & Central Asia',\n",
       "       'Europe & Central Asia (IDA & IBRD countries)',\n",
       "       'Europe & Central Asia (excluding high income)', 'European Union',\n",
       "       'Faroe Islands', 'Fiji', 'Finland',\n",
       "       'Fragile and conflict affected situations', 'France',\n",
       "       'French Polynesia', 'Gabon', 'Gambia, The', 'Georgia', 'Germany',\n",
       "       'Ghana', 'Gibraltar', 'Greece', 'Greenland', 'Grenada', 'Guam',\n",
       "       'Guatemala', 'Guinea', 'Guinea-Bissau', 'Guyana', 'Haiti',\n",
       "       'Heavily indebted poor countries (HIPC)', 'High income', 'Honduras',\n",
       "       'Hong Kong SAR, China', 'Hungary', 'IBRD only', 'IDA & IBRD total',\n",
       "       'IDA blend', 'IDA only', 'IDA total', 'Iceland', 'India',\n",
       "       'Indonesia', 'Iran, Islamic Rep.', 'Iraq', 'Ireland', 'Isle of Man',\n",
       "       'Israel', 'Italy', 'Jamaica', 'Japan', 'Jordan', 'Kazakhstan',\n",
       "       'Kenya', 'Kiribati', 'Korea, Dem. People’s Rep.', 'Korea, Rep.',\n",
       "       'Kosovo', 'Kuwait', 'Kyrgyz Republic', 'Lao PDR',\n",
       "       'Late-demographic dividend', 'Latin America & Caribbean',\n",
       "       'Latin America & Caribbean (excluding high income)',\n",
       "       'Latin America & the Caribbean (IDA & IBRD countries)', 'Latvia',\n",
       "       'Least developed countries: UN classification', 'Lebanon',\n",
       "       'Lesotho', 'Liberia', 'Libya', 'Liechtenstein', 'Lithuania',\n",
       "       'Low & middle income', 'Low income', 'Lower middle income',\n",
       "       'Luxembourg', 'Macao SAR, China', 'Macedonia, FYR', 'Madagascar',\n",
       "       'Malawi', 'Malaysia', 'Maldives', 'Mali', 'Malta',\n",
       "       'Marshall Islands', 'Mauritania', 'Mauritius', 'Mexico',\n",
       "       'Micronesia, Fed. Sts.', 'Middle East & North Africa',\n",
       "       'Middle East & North Africa (IDA & IBRD countries)',\n",
       "       'Middle East & North Africa (excluding high income)',\n",
       "       'Middle income', 'Moldova', 'Monaco', 'Mongolia', 'Montenegro',\n",
       "       'Morocco', 'Mozambique', 'Myanmar', 'Namibia', 'Nauru', 'Nepal',\n",
       "       'Netherlands', 'New Caledonia', 'New Zealand', 'Nicaragua', 'Niger',\n",
       "       'Nigeria', 'North America', 'Northern Mariana Islands', 'Norway',\n",
       "       'Not classified', 'OECD members', 'Oman', 'Other small states',\n",
       "       'Pacific island small states', 'Pakistan', 'Palau', 'Panama',\n",
       "       'Papua New Guinea', 'Paraguay', 'Peru', 'Philippines', 'Poland',\n",
       "       'Portugal', 'Post-demographic dividend', 'Pre-demographic dividend',\n",
       "       'Puerto Rico', 'Qatar', 'Romania', 'Russian Federation', 'Rwanda',\n",
       "       'Samoa', 'San Marino', 'Sao Tome and Principe', 'Saudi Arabia',\n",
       "       'Senegal', 'Serbia', 'Seychelles', 'Sierra Leone', 'Singapore',\n",
       "       'Sint Maarten (Dutch part)', 'Slovak Republic', 'Slovenia',\n",
       "       'Small states', 'Solomon Islands', 'Somalia', 'South Africa',\n",
       "       'South Asia', 'South Asia (IDA & IBRD)', 'South Sudan', 'Spain',\n",
       "       'Sri Lanka', 'St. Kitts and Nevis', 'St. Lucia',\n",
       "       'St. Martin (French part)', 'St. Vincent and the Grenadines',\n",
       "       'Sub-Saharan Africa', 'Sub-Saharan Africa (IDA & IBRD countries)',\n",
       "       'Sub-Saharan Africa (excluding high income)', 'Sudan', 'Suriname',\n",
       "       'Swaziland', 'Sweden', 'Switzerland', 'Syrian Arab Republic',\n",
       "       'Tajikistan', 'Tanzania', 'Thailand', 'Timor-Leste', 'Togo',\n",
       "       'Tonga', 'Trinidad and Tobago', 'Tunisia', 'Turkey', 'Turkmenistan',\n",
       "       'Turks and Caicos Islands', 'Tuvalu', 'Uganda', 'Ukraine',\n",
       "       'United Arab Emirates', 'United Kingdom', 'United States',\n",
       "       'Upper middle income', 'Uruguay', 'Uzbekistan', 'Vanuatu',\n",
       "       'Venezuela, RB', 'Vietnam', 'Virgin Islands (U.S.)',\n",
       "       'West Bank and Gaza', 'World', 'Yemen, Rep.', 'Zambia', 'Zimbabwe'], dtype=object)"
      ]
     },
     "execution_count": 109,
     "metadata": {},
     "output_type": "execute_result"
    }
   ],
   "source": [
    "data2.index.levels[1].values"
   ]
  },
  {
   "cell_type": "code",
   "execution_count": 98,
   "metadata": {},
   "outputs": [
    {
     "data": {
      "text/plain": [
       "Country Code  Country Name  Indicator Code  Year\n",
       "ABW           Aruba         SP.DYN.TFRT.IN  1960    4.820000e+00\n",
       "                                            1961    4.655000e+00\n",
       "                                            1962    4.471000e+00\n",
       "                                            1963    4.271000e+00\n",
       "                                            1964    4.059000e+00\n",
       "                                            1965    3.842000e+00\n",
       "                                            1966    3.625000e+00\n",
       "                                            1967    3.417000e+00\n",
       "                                            1968    3.226000e+00\n",
       "                                            1969    3.054000e+00\n",
       "                                                        ...     \n",
       "ZWE           Zimbabwe      SP.POP.TOTL     2006    1.312427e+07\n",
       "                                            2007    1.332991e+07\n",
       "                                            2008    1.355847e+07\n",
       "                                            2009    1.381060e+07\n",
       "                                            2010    1.408632e+07\n",
       "                                            2011    1.438665e+07\n",
       "                                            2012    1.471083e+07\n",
       "                                            2013    1.505451e+07\n",
       "                                            2014    1.541168e+07\n",
       "                                            2015    1.577745e+07\n",
       "Length: 41644, dtype: float64"
      ]
     },
     "execution_count": 98,
     "metadata": {},
     "output_type": "execute_result"
    }
   ],
   "source": [
    "data.dropna()"
   ]
  },
  {
   "cell_type": "code",
   "execution_count": 99,
   "metadata": {},
   "outputs": [
    {
     "data": {
      "text/plain": [
       "Country Name  Indicator Code  Year\n",
       "Andorra       SP.DYN.TFRT.IN  2006        1.24\n",
       "                              2007        1.18\n",
       "                              2008        1.25\n",
       "                              2009        1.19\n",
       "                              2010        1.27\n",
       "              SP.POP.TOTL     1960    13411.00\n",
       "                              1961    14375.00\n",
       "                              1962    15370.00\n",
       "                              1963    16412.00\n",
       "                              1964    17469.00\n",
       "                                        ...   \n",
       "                              2006    80991.00\n",
       "                              2007    82683.00\n",
       "                              2008    83861.00\n",
       "                              2009    84462.00\n",
       "                              2010    84449.00\n",
       "                              2011    83751.00\n",
       "                              2012    82431.00\n",
       "                              2013    80788.00\n",
       "                              2014    79223.00\n",
       "                              2015    78014.00\n",
       "Length: 61, dtype: float64"
      ]
     },
     "execution_count": 99,
     "metadata": {},
     "output_type": "execute_result"
    }
   ],
   "source": [
    "data.loc['AND']"
   ]
  },
  {
   "cell_type": "code",
   "execution_count": null,
   "metadata": {
    "collapsed": true
   },
   "outputs": [],
   "source": []
  },
  {
   "cell_type": "code",
   "execution_count": null,
   "metadata": {
    "collapsed": true
   },
   "outputs": [],
   "source": []
  },
  {
   "cell_type": "code",
   "execution_count": 11,
   "metadata": {},
   "outputs": [
    {
     "data": {
      "text/plain": [
       "Country Code  Indicator Code      \n",
       "ABW           SP.DYN.TFRT.IN  1960    4.820000\n",
       "                              1961    4.655000\n",
       "AFG           SP.DYN.TFRT.IN  1960    7.450000\n",
       "                              1961    7.450000\n",
       "AGO           SP.DYN.TFRT.IN  1960    7.379000\n",
       "                              1961    7.388000\n",
       "ALB           SP.DYN.TFRT.IN  1960    6.489000\n",
       "                              1961    6.401000\n",
       "ARB           SP.DYN.TFRT.IN  1960    6.920302\n",
       "                              1961    6.941665\n",
       "                                        ...   \n",
       "WSM           SP.DYN.TFRT.IN  1960    7.651000\n",
       "                              1961    7.645000\n",
       "YEM           SP.DYN.TFRT.IN  1960    7.380000\n",
       "                              1961    7.405000\n",
       "ZAF           SP.DYN.TFRT.IN  1960    6.173000\n",
       "                              1961    6.144000\n",
       "ZMB           SP.DYN.TFRT.IN  1960    7.018000\n",
       "                              1961    7.071000\n",
       "ZWE           SP.DYN.TFRT.IN  1960    7.158000\n",
       "                              1961    7.215000\n",
       "Length: 470, dtype: float64"
      ]
     },
     "execution_count": 11,
     "metadata": {},
     "output_type": "execute_result"
    }
   ],
   "source": [
    "fert3 = fert2.dropna().set_index(['Country Code', 'Indicator Code']).stack()\n",
    "fert3"
   ]
  },
  {
   "cell_type": "code",
   "execution_count": 100,
   "metadata": {},
   "outputs": [
    {
     "data": {
      "text/plain": [
       "                                 Region          IncomeGroup  \\\n",
       "CountryCode                                                    \n",
       "ABW           Latin America & Caribbean          High income   \n",
       "AFG                          South Asia           Low income   \n",
       "AGO                  Sub-Saharan Africa  Lower middle income   \n",
       "ALB               Europe & Central Asia  Upper middle income   \n",
       "AND               Europe & Central Asia          High income   \n",
       "ARB                                 NaN                  NaN   \n",
       "ARE          Middle East & North Africa          High income   \n",
       "ARG           Latin America & Caribbean  Upper middle income   \n",
       "ARM               Europe & Central Asia  Lower middle income   \n",
       "ASM                 East Asia & Pacific  Upper middle income   \n",
       "...                                 ...                  ...   \n",
       "VIR           Latin America & Caribbean          High income   \n",
       "VNM                 East Asia & Pacific  Lower middle income   \n",
       "VUT                 East Asia & Pacific  Lower middle income   \n",
       "WLD                                 NaN                  NaN   \n",
       "WSM                 East Asia & Pacific  Upper middle income   \n",
       "XKX               Europe & Central Asia  Lower middle income   \n",
       "YEM          Middle East & North Africa  Lower middle income   \n",
       "ZAF                  Sub-Saharan Africa  Upper middle income   \n",
       "ZMB                  Sub-Saharan Africa  Lower middle income   \n",
       "ZWE                  Sub-Saharan Africa           Low income   \n",
       "\n",
       "                                                  SpecialNotes  \\\n",
       "CountryCode                                                      \n",
       "ABW          SNA data for 2000-2011 are updated from offici...   \n",
       "AFG          Fiscal year end: March 20; reporting period fo...   \n",
       "AGO                                                        NaN   \n",
       "ALB                                                        NaN   \n",
       "AND          WB-3 code changed from ADO to AND to align wit...   \n",
       "ARB          Arab World aggregate. Arab World is composed o...   \n",
       "ARE                                                        NaN   \n",
       "ARG          National Institute of Statistics and Census re...   \n",
       "ARM                                                        NaN   \n",
       "ASM                                                        NaN   \n",
       "...                                                        ...   \n",
       "VIR                                                        NaN   \n",
       "VNM                                                        NaN   \n",
       "VUT          Based on official government statistics, value...   \n",
       "WLD                                           World aggregate.   \n",
       "WSM          Fiscal year ends on June 30; reporting period ...   \n",
       "XKX          WB-3 code changed from KSV to XKX to align wit...   \n",
       "YEM          Based on official government statistics and In...   \n",
       "ZAF          Fiscal year end: March 31; reporting period fo...   \n",
       "ZMB          The base year is 2010. National accounts data ...   \n",
       "ZWE          Fiscal year end: June 30; reporting period for...   \n",
       "\n",
       "                       CountryName  Unnamed: 5  \n",
       "CountryCode                                     \n",
       "ABW                          Aruba         NaN  \n",
       "AFG                    Afghanistan         NaN  \n",
       "AGO                         Angola         NaN  \n",
       "ALB                        Albania         NaN  \n",
       "AND                        Andorra         NaN  \n",
       "ARB                     Arab World         NaN  \n",
       "ARE           United Arab Emirates         NaN  \n",
       "ARG                      Argentina         NaN  \n",
       "ARM                        Armenia         NaN  \n",
       "ASM                 American Samoa         NaN  \n",
       "...                            ...         ...  \n",
       "VIR          Virgin Islands (U.S.)         NaN  \n",
       "VNM                        Vietnam         NaN  \n",
       "VUT                        Vanuatu         NaN  \n",
       "WLD                          World         NaN  \n",
       "WSM                          Samoa         NaN  \n",
       "XKX                         Kosovo         NaN  \n",
       "YEM                    Yemen, Rep.         NaN  \n",
       "ZAF                   South Africa         NaN  \n",
       "ZMB                         Zambia         NaN  \n",
       "ZWE                       Zimbabwe         NaN  \n",
       "\n",
       "[263 rows x 5 columns]"
      ]
     },
     "execution_count": 100,
     "metadata": {},
     "output_type": "execute_result"
    }
   ],
   "source": [
    "regions = pd.read_csv(\"../data/regions.csv\").set_index(\"CountryCode\")\n",
    "regions.rename(columns={\"TableName\": \"CountryName\"}, inplace=True)\n",
    "regions"
   ]
  },
  {
   "cell_type": "code",
   "execution_count": null,
   "metadata": {},
   "outputs": [],
   "source": [
    "def pivot(df, cn):\n",
    "    le = pd.DataFrame(columns=['Key', 'CountryCode', 'Year', cn])\n",
    "    countries = df.index.values\n",
    "    for c in countries:\n",
    "        for y in range(1960, 2016):\n",
    "            #print (c, y)\n",
    "            le.loc[len(le)] =[(c + '.' + str(y)), c, y, df.loc[c][str(y)]]\n",
    "    le = le.set_index('Key')\n",
    "    return le"
   ]
  },
  {
   "cell_type": "code",
   "execution_count": null,
   "metadata": {},
   "outputs": [],
   "source": [
    "fr = pivot(fert, 'FertRate')\n",
    "#le.set_index(\"Key\")\n",
    "fr"
   ]
  },
  {
   "cell_type": "code",
   "execution_count": null,
   "metadata": {},
   "outputs": [],
   "source": [
    "le = pivot(lfe, \"LifeExp\")\n",
    "le"
   ]
  },
  {
   "cell_type": "code",
   "execution_count": null,
   "metadata": {},
   "outputs": [],
   "source": [
    "p = pivot(pop, \"Population\")\n",
    "p"
   ]
  },
  {
   "cell_type": "code",
   "execution_count": null,
   "metadata": {},
   "outputs": [],
   "source": [
    "result = fr.copy().dropna()\n",
    "result[\"LifeExp\"] = le[\"LifeExp\"]\n",
    "result[\"Population\"] = p[\"Population\"]\n",
    "result = result.reset_index().set_index(\"CountryCode\")"
   ]
  },
  {
   "cell_type": "code",
   "execution_count": null,
   "metadata": {},
   "outputs": [],
   "source": [
    "result = result.join(regions[[\"Region\", \"CountryName\"]])\n",
    "result = result.reset_index()[[\"CountryCode\", \"Year\", \"CountryName\", \"LifeExp\", \"FertRate\", \"Population\", \"Region\"]]\n",
    "result"
   ]
  },
  {
   "cell_type": "code",
   "execution_count": null,
   "metadata": {},
   "outputs": [],
   "source": [
    "result = result.dropna()"
   ]
  },
  {
   "cell_type": "code",
   "execution_count": null,
   "metadata": {},
   "outputs": [],
   "source": [
    "result[result.CountryCode=='CUW']"
   ]
  },
  {
   "cell_type": "code",
   "execution_count": null,
   "metadata": {
    "collapsed": true
   },
   "outputs": [],
   "source": [
    "result.to_csv(\"../data/chart_data.csv\", index=False)"
   ]
  },
  {
   "cell_type": "code",
   "execution_count": null,
   "metadata": {},
   "outputs": [],
   "source": [
    "result[result.Year==2015].to_csv(\"../data/year2015.csv\", index=False)"
   ]
  },
  {
   "cell_type": "code",
   "execution_count": null,
   "metadata": {
    "collapsed": true
   },
   "outputs": [],
   "source": []
  }
 ],
 "metadata": {
  "kernelspec": {
   "display_name": "Python 3",
   "language": "python",
   "name": "python3"
  },
  "language_info": {
   "codemirror_mode": {
    "name": "ipython",
    "version": 3
   },
   "file_extension": ".py",
   "mimetype": "text/x-python",
   "name": "python",
   "nbconvert_exporter": "python",
   "pygments_lexer": "ipython3",
   "version": "3.6.1"
  }
 },
 "nbformat": 4,
 "nbformat_minor": 2
}
